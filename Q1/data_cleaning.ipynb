{
 "cells": [
  {
   "cell_type": "markdown",
   "id": "76c80c61-7af3-4571-a866-027ad4969b17",
   "metadata": {
    "editable": true,
    "slideshow": {
     "slide_type": ""
    },
    "tags": []
   },
   "source": [
    "# Scenario 2\n",
    "\n",
    "![LTA Master Plan 2040](../res/LTMP2040 Main Summary.png)\n",
    "\n",
    "\"<br/>\n",
    "There is concern that the experience of the current public transport infrastructure varies\n",
    "significantly across HDB towns.\n",
    "The Land Transport Authority has tasked your team to assess the current infrastructure, and\n",
    "review if there is merit <b>to accelerate the construction of any specific phase of any MRT line that is due to open before 2030.</b>\n",
    "<br/>\"\n",
    "\n"
   ]
  },
  {
   "cell_type": "code",
   "execution_count": 17,
   "id": "c2d14158-b47a-4aa3-a05e-8cb580f8a4fd",
   "metadata": {
    "editable": true,
    "slideshow": {
     "slide_type": ""
    },
    "tags": []
   },
   "outputs": [],
   "source": [
    "import pandas as pd\n",
    "import os\n",
    "import json\n",
    "import requests\n",
    "\n",
    "JSON_DIR = \"./data/json\""
   ]
  },
  {
   "cell_type": "code",
   "execution_count": 15,
   "id": "74080d34-0782-40ae-83bc-1a97fb083af4",
   "metadata": {
    "editable": true,
    "slideshow": {
     "slide_type": ""
    },
    "tags": []
   },
   "outputs": [],
   "source": [
    "from dotenv import dotenv_values\n",
    "\n",
    "config = dotenv_values(\".env.local\") \n",
    "API_KEY = config[\"API_KEY\"]"
   ]
  },
  {
   "cell_type": "markdown",
   "id": "174a4e71-01d8-45cf-aaac-5a2a63a644f3",
   "metadata": {
    "editable": true,
    "slideshow": {
     "slide_type": ""
    },
    "tags": []
   },
   "source": [
    "### From API Documentation\n",
    "\n",
    "With the exception of the following Bus Arrival API listed below (see Table 1), API responses\n",
    "returned are limited to 500 records of the dataset per call. This number may be adjusted from\n",
    "time to time.\n",
    "To retrieve subsequent records of the dataset, you need to append the `$skip` operator to the\n",
    "API call (URL). \n",
    "\n",
    "For example, to retrieve the next 500 records (501st to the 1000th), the API call should be:<br>\n",
    "http://datamall2.mytransport.sg/ltaodataservice/BusRoutes?$skip=500\n",
    "<br>\n",
    "\n",
    "To retrieve the following set of 500 records, append `?$skip=1000`, and so on. Just remember,\n",
    "each URL call returns only a max of 500 records!"
   ]
  },
  {
   "cell_type": "markdown",
   "id": "a8949d32-41c7-4113-82c6-f3a9554863da",
   "metadata": {
    "editable": true,
    "slideshow": {
     "slide_type": ""
    },
    "tags": []
   },
   "source": [
    "Datasets to use:\n",
    "\n",
    "1) Bus Services\n",
    "    - returns detailed service information for all buses currently in\n",
    "operation, including: first stop, last stop, peak / offpeak frequency of dispatch\n",
    "2) Bus Routes\n",
    "    - returns detailed route information for all services currently in operation, including: all bus stops along each route, first/last bus timings for each stop\n",
    "3) Bus Stops\n",
    "    - returns detailed information for all bus stops currently being serviced by buses, including: Bus Stop Code, location coordinates\n",
    "4) Train Service Alerts\n",
    "    - returns detailed information on train service unavailability during scheduled operating hours, such as affected line and stations etc"
   ]
  },
  {
   "cell_type": "code",
   "execution_count": null,
   "id": "168c7e8d-69bd-4894-af2b-722a86225f17",
   "metadata": {},
   "outputs": [],
   "source": [
    "DATASETS = {\n",
    "    busServices = \"http://datamall2.mytransport.sg/ltaodataservice/BusServices\",\n",
    "    busRoutes = \"http://datamall2.mytransport.sg/ltaodataservice/BusRoutes\",\n",
    "    busStops = \"http://datamall2.mytransport.sg/ltaodataservice/BusStops\",\n",
    "    trainAlerts = \"http://datamall2.mytransport.sg/ltaodataservice/TrainServiceAlerts\"\n",
    "\n",
    "}"
   ]
  }
 ],
 "metadata": {
  "kernelspec": {
   "display_name": "Python 3 (ipykernel)",
   "language": "python",
   "name": "python3"
  },
  "language_info": {
   "codemirror_mode": {
    "name": "ipython",
    "version": 3
   },
   "file_extension": ".py",
   "mimetype": "text/x-python",
   "name": "python",
   "nbconvert_exporter": "python",
   "pygments_lexer": "ipython3",
   "version": "3.10.14"
  }
 },
 "nbformat": 4,
 "nbformat_minor": 5
}
