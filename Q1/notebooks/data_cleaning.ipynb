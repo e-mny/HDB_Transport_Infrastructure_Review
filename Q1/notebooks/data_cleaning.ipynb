{
 "cells": [
  {
   "cell_type": "markdown",
   "id": "76c80c61-7af3-4571-a866-027ad4969b17",
   "metadata": {
    "editable": true,
    "slideshow": {
     "slide_type": ""
    },
    "tags": []
   },
   "source": [
    "# Scenario 2\n",
    "\n",
    "[LTA Master Plan 2040](res/LTMP2040 Main Summary.png)\n",
    "\n",
    "\"<br/>\n",
    "There is concern that the experience of the current public transport infrastructure varies\n",
    "significantly across HDB towns.\n",
    "The Land Transport Authority has tasked your team to assess the current infrastructure, and\n",
    "review if there is merit <b>to accelerate the construction of any specific phase of any MRT line that is due to open before 2030.</b>\n",
    "<br/>\"\n",
    "\n"
   ]
  },
  {
   "cell_type": "code",
   "execution_count": 1,
   "id": "c2d14158-b47a-4aa3-a05e-8cb580f8a4fd",
   "metadata": {
    "editable": true,
    "slideshow": {
     "slide_type": ""
    },
    "tags": []
   },
   "outputs": [],
   "source": [
    "import pandas as pd"
   ]
  },
  {
   "cell_type": "code",
   "execution_count": 2,
   "id": "aed9fc1d-7ba7-4885-83bb-785fd6c11d10",
   "metadata": {},
   "outputs": [],
   "source": [
    "JSON_DIR = \"data/json\""
   ]
  }
 ],
 "metadata": {
  "kernelspec": {
   "display_name": "Python 3 (ipykernel)",
   "language": "python",
   "name": "python3"
  },
  "language_info": {
   "codemirror_mode": {
    "name": "ipython",
    "version": 3
   },
   "file_extension": ".py",
   "mimetype": "text/x-python",
   "name": "python",
   "nbconvert_exporter": "python",
   "pygments_lexer": "ipython3",
   "version": "3.10.14"
  }
 },
 "nbformat": 4,
 "nbformat_minor": 5
}
