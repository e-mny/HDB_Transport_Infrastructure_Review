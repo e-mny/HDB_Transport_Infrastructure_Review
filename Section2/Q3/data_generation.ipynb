{
 "cells": [
  {
   "cell_type": "markdown",
   "id": "03f0caf6-6e64-48f1-9bd1-4932766d533c",
   "metadata": {},
   "source": [
    "# Question 3 (Data Visualisation)\n",
    "A colleague is working with a salary dataset based on recent poly graduates in a specific course of study highly subsidised by the government, to compare whether the career choices made by students from Group X are different from those from Group Y in any manner. \n",
    "\n",
    "She has already produced the following summary table and listed out the main insight she wishes to highlight, as well as pertinent observations on the dataset’s characteristics, but is struggling to come up with a good way to communicate the insight to her audience though visualisations while also accurately reflecting the dataset’s characteristics."
   ]
  },
  {
   "cell_type": "code",
   "execution_count": 1,
   "id": "a6944d97-d470-4a6a-9b14-4e9f12fa867c",
   "metadata": {},
   "outputs": [],
   "source": [
    "import pandas as pd"
   ]
  },
  {
   "cell_type": "code",
   "execution_count": 2,
   "id": "31926221-b6fd-4380-8fef-ac6afd8ea722",
   "metadata": {},
   "outputs": [],
   "source": [
    "# Define the data for group X\n",
    "data_X = {\n",
    "    'industry': ['A', 'B', 'C', 'D', 'E', 'F', 'G', 'H', 'others'],\n",
    "    'median_salary': [3150, 3300, 2650, 2400, 4100, 3400, 2800, 2300, 2900],\n",
    "    'count': [83, 53, 47, 12, 30, 23, 12, 8, 21],\n",
    "    'job_nature': [\n",
    "        'closely_related', 'closely_related', 'closely_related', 'closely_related',\n",
    "        'somewhat_related', 'somewhat_related', 'somewhat_related', 'somewhat_related',\n",
    "        'unrelated'\n",
    "    ]\n",
    "}\n",
    "\n",
    "# Define the data for group Y\n",
    "data_Y = {\n",
    "    'industry': ['A', 'B', 'C', 'D', 'E', 'F', 'G', 'H', 'others'],\n",
    "    'median_salary': [3000, 3100, 2600, 2400, 3900, 3150, 2600, 2200, 1900],\n",
    "    'count': [23, 9, 32, 15, 3, 7, 22, 11, 28],\n",
    "    'job_nature': [\n",
    "        'closely_related', 'closely_related', 'closely_related', 'closely_related',\n",
    "        'somewhat_related', 'somewhat_related', 'somewhat_related', 'somewhat_related',\n",
    "        'unrelated'\n",
    "    ]\n",
    "}"
   ]
  },
  {
   "cell_type": "code",
   "execution_count": 3,
   "id": "b0a5dd19-8b73-4474-9b94-17a05d90da80",
   "metadata": {},
   "outputs": [],
   "source": [
    "# Create DataFrames\n",
    "df_X = pd.DataFrame(data_X)\n",
    "df_Y = pd.DataFrame(data_Y)\n",
    "\n",
    "# Add group columns\n",
    "df_X['group'] = 'X'\n",
    "df_Y['group'] = 'Y'\n",
    "\n",
    "# Combine DataFrames\n",
    "df_combined = pd.concat([df_X, df_Y], ignore_index=True)\n",
    "\n",
    "# Save DataFrames to CSV\n",
    "df_X.to_csv('./data/student_group_X.csv', index=False)\n",
    "df_Y.to_csv('./data/student_group_Y.csv', index=False)\n",
    "df_combined.to_csv('./data/student_group_combined.csv', index=False)"
   ]
  },
  {
   "cell_type": "code",
   "execution_count": 4,
   "id": "01b0cccd-b421-49fc-ac6f-dd522a9199d2",
   "metadata": {},
   "outputs": [
    {
     "name": "stdout",
     "output_type": "stream",
     "text": [
      "DataFrame for Group X:\n",
      "  industry  median_salary  count        job_nature group\n",
      "0        A           3150     83   closely_related     X\n",
      "1        B           3300     53   closely_related     X\n",
      "2        C           2650     47   closely_related     X\n",
      "3        D           2400     12   closely_related     X\n",
      "4        E           4100     30  somewhat_related     X\n",
      "5        F           3400     23  somewhat_related     X\n",
      "6        G           2800     12  somewhat_related     X\n",
      "7        H           2300      8  somewhat_related     X\n",
      "8   others           2900     21         unrelated     X\n"
     ]
    }
   ],
   "source": [
    "# Display DataFrames\n",
    "print(\"DataFrame for Group X:\")\n",
    "print(df_X)"
   ]
  },
  {
   "cell_type": "code",
   "execution_count": 5,
   "id": "71786dc3-0d6c-4acb-9ea4-347aac064ef2",
   "metadata": {},
   "outputs": [
    {
     "name": "stdout",
     "output_type": "stream",
     "text": [
      "\n",
      "DataFrame for Group Y:\n",
      "  industry  median_salary  count        job_nature group\n",
      "0        A           3000     23   closely_related     Y\n",
      "1        B           3100      9   closely_related     Y\n",
      "2        C           2600     32   closely_related     Y\n",
      "3        D           2400     15   closely_related     Y\n",
      "4        E           3900      3  somewhat_related     Y\n",
      "5        F           3150      7  somewhat_related     Y\n",
      "6        G           2600     22  somewhat_related     Y\n",
      "7        H           2200     11  somewhat_related     Y\n",
      "8   others           1900     28         unrelated     Y\n"
     ]
    }
   ],
   "source": [
    "print(\"\\nDataFrame for Group Y:\")\n",
    "print(df_Y)"
   ]
  },
  {
   "cell_type": "code",
   "execution_count": 6,
   "id": "e7a1a5c7-e0c3-4d38-bc84-bd3e79a551a1",
   "metadata": {},
   "outputs": [
    {
     "name": "stdout",
     "output_type": "stream",
     "text": [
      "\n",
      "Combined DataFrame:\n",
      "   industry  median_salary  count        job_nature group\n",
      "0         A           3150     83   closely_related     X\n",
      "1         B           3300     53   closely_related     X\n",
      "2         C           2650     47   closely_related     X\n",
      "3         D           2400     12   closely_related     X\n",
      "4         E           4100     30  somewhat_related     X\n",
      "5         F           3400     23  somewhat_related     X\n",
      "6         G           2800     12  somewhat_related     X\n",
      "7         H           2300      8  somewhat_related     X\n",
      "8    others           2900     21         unrelated     X\n",
      "9         A           3000     23   closely_related     Y\n",
      "10        B           3100      9   closely_related     Y\n",
      "11        C           2600     32   closely_related     Y\n",
      "12        D           2400     15   closely_related     Y\n",
      "13        E           3900      3  somewhat_related     Y\n",
      "14        F           3150      7  somewhat_related     Y\n",
      "15        G           2600     22  somewhat_related     Y\n",
      "16        H           2200     11  somewhat_related     Y\n",
      "17   others           1900     28         unrelated     Y\n"
     ]
    }
   ],
   "source": [
    "print(\"\\nCombined DataFrame:\")\n",
    "print(df_combined)"
   ]
  }
 ],
 "metadata": {
  "kernelspec": {
   "display_name": "Python 3 (ipykernel)",
   "language": "python",
   "name": "python3"
  },
  "language_info": {
   "codemirror_mode": {
    "name": "ipython",
    "version": 3
   },
   "file_extension": ".py",
   "mimetype": "text/x-python",
   "name": "python",
   "nbconvert_exporter": "python",
   "pygments_lexer": "ipython3",
   "version": "3.10.14"
  }
 },
 "nbformat": 4,
 "nbformat_minor": 5
}
