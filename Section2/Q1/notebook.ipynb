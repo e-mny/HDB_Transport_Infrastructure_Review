{
 "cells": [
  {
   "cell_type": "markdown",
   "id": "3bd2e11f-9c04-4b40-a95a-e106c15376d8",
   "metadata": {},
   "source": [
    "# Question 1 (Association)\n",
    "<br/>\n",
    "\n",
    "Download the list of transactions by each property agent from https://data.gov.sg/dataset/cea-salesperson-residential-transaction-record, and focus on <b>HDB resale flat transactions where a property agent represented the seller</b>.\n",
    "\n",
    "<br/>\n",
    "Task 1: Examine the distribution for <b>number of sales closed by an agent in a year</b> & suggest a\n",
    "probability distribution that may be suitable for modelling this set of values. What are some\n",
    "ways in which your suggested distribution is appropriate? What are some of its limitations?"
   ]
  },
  {
   "cell_type": "code",
   "execution_count": 111,
   "id": "8c04e0be-a4b9-4fd2-9928-a9a654bdc74c",
   "metadata": {},
   "outputs": [],
   "source": [
    "import pandas as pd\n",
    "import matplotlib.pyplot as plt\n",
    "import seaborn as sns\n",
    "from scipy.stats import poisson, norm\n",
    "import numpy as np\n",
    "import plotly.graph_objects as go"
   ]
  },
  {
   "cell_type": "code",
   "execution_count": 42,
   "id": "635e0e02-d86b-407c-8f67-07ad2e16906b",
   "metadata": {},
   "outputs": [
    {
     "data": {
      "text/html": [
       "<div>\n",
       "<style scoped>\n",
       "    .dataframe tbody tr th:only-of-type {\n",
       "        vertical-align: middle;\n",
       "    }\n",
       "\n",
       "    .dataframe tbody tr th {\n",
       "        vertical-align: top;\n",
       "    }\n",
       "\n",
       "    .dataframe thead th {\n",
       "        text-align: right;\n",
       "    }\n",
       "</style>\n",
       "<table border=\"1\" class=\"dataframe\">\n",
       "  <thead>\n",
       "    <tr style=\"text-align: right;\">\n",
       "      <th></th>\n",
       "      <th>salesperson_name</th>\n",
       "      <th>transaction_date</th>\n",
       "      <th>salesperson_reg_num</th>\n",
       "      <th>property_type</th>\n",
       "      <th>transaction_type</th>\n",
       "      <th>represented</th>\n",
       "      <th>town</th>\n",
       "      <th>district</th>\n",
       "      <th>general_location</th>\n",
       "    </tr>\n",
       "  </thead>\n",
       "  <tbody>\n",
       "    <tr>\n",
       "      <th>0</th>\n",
       "      <td>SOH HUI HUA</td>\n",
       "      <td>OCT-2017</td>\n",
       "      <td>P000003I</td>\n",
       "      <td>HDB</td>\n",
       "      <td>RESALE</td>\n",
       "      <td>SELLER</td>\n",
       "      <td>YISHUN</td>\n",
       "      <td>-</td>\n",
       "      <td>-</td>\n",
       "    </tr>\n",
       "    <tr>\n",
       "      <th>1</th>\n",
       "      <td>SOH HUI HUA</td>\n",
       "      <td>MAR-2018</td>\n",
       "      <td>P000003I</td>\n",
       "      <td>HDB</td>\n",
       "      <td>RESALE</td>\n",
       "      <td>BUYER</td>\n",
       "      <td>KALLANG/WHAMPOA</td>\n",
       "      <td>-</td>\n",
       "      <td>-</td>\n",
       "    </tr>\n",
       "    <tr>\n",
       "      <th>2</th>\n",
       "      <td>SOH HUI HUA</td>\n",
       "      <td>JAN-2017</td>\n",
       "      <td>P000003I</td>\n",
       "      <td>HDB</td>\n",
       "      <td>RESALE</td>\n",
       "      <td>BUYER</td>\n",
       "      <td>YISHUN</td>\n",
       "      <td>-</td>\n",
       "      <td>-</td>\n",
       "    </tr>\n",
       "    <tr>\n",
       "      <th>3</th>\n",
       "      <td>SOH HUI HUA</td>\n",
       "      <td>MAY-2018</td>\n",
       "      <td>P000003I</td>\n",
       "      <td>HDB</td>\n",
       "      <td>RESALE</td>\n",
       "      <td>SELLER</td>\n",
       "      <td>CHOA CHU KANG</td>\n",
       "      <td>-</td>\n",
       "      <td>-</td>\n",
       "    </tr>\n",
       "    <tr>\n",
       "      <th>4</th>\n",
       "      <td>SOH HUI HUA</td>\n",
       "      <td>NOV-2017</td>\n",
       "      <td>P000003I</td>\n",
       "      <td>HDB</td>\n",
       "      <td>RESALE</td>\n",
       "      <td>SELLER</td>\n",
       "      <td>CHOA CHU KANG</td>\n",
       "      <td>-</td>\n",
       "      <td>-</td>\n",
       "    </tr>\n",
       "    <tr>\n",
       "      <th>...</th>\n",
       "      <td>...</td>\n",
       "      <td>...</td>\n",
       "      <td>...</td>\n",
       "      <td>...</td>\n",
       "      <td>...</td>\n",
       "      <td>...</td>\n",
       "      <td>...</td>\n",
       "      <td>...</td>\n",
       "      <td>...</td>\n",
       "    </tr>\n",
       "    <tr>\n",
       "      <th>954201</th>\n",
       "      <td>-</td>\n",
       "      <td>FEB-2020</td>\n",
       "      <td>-</td>\n",
       "      <td>HDB</td>\n",
       "      <td>ROOM RENTAL</td>\n",
       "      <td>TENANT</td>\n",
       "      <td>TOA PAYOH</td>\n",
       "      <td>12</td>\n",
       "      <td>Balestier/ Toa Payoh/ Serangoon</td>\n",
       "    </tr>\n",
       "    <tr>\n",
       "      <th>954202</th>\n",
       "      <td>-</td>\n",
       "      <td>FEB-2020</td>\n",
       "      <td>-</td>\n",
       "      <td>HDB</td>\n",
       "      <td>ROOM RENTAL</td>\n",
       "      <td>LANDLORD</td>\n",
       "      <td>QUEENSTOWN</td>\n",
       "      <td>10</td>\n",
       "      <td>Ardmore/ Bukit Timah/ Holland Road/ Tanglin</td>\n",
       "    </tr>\n",
       "    <tr>\n",
       "      <th>954203</th>\n",
       "      <td>-</td>\n",
       "      <td>JAN-2020</td>\n",
       "      <td>-</td>\n",
       "      <td>CONDOMINIUM_APARTMENTS</td>\n",
       "      <td>WHOLE RENTAL</td>\n",
       "      <td>TENANT</td>\n",
       "      <td>-</td>\n",
       "      <td>11</td>\n",
       "      <td>Watten Estate/ Novena/ Thomson</td>\n",
       "    </tr>\n",
       "    <tr>\n",
       "      <th>954204</th>\n",
       "      <td>-</td>\n",
       "      <td>FEB-2020</td>\n",
       "      <td>-</td>\n",
       "      <td>CONDOMINIUM_APARTMENTS</td>\n",
       "      <td>WHOLE RENTAL</td>\n",
       "      <td>LANDLORD</td>\n",
       "      <td>-</td>\n",
       "      <td>23</td>\n",
       "      <td>Hillview/ Dairy Farm/ Bukit Panjang/ Choa Chu ...</td>\n",
       "    </tr>\n",
       "    <tr>\n",
       "      <th>954205</th>\n",
       "      <td>-</td>\n",
       "      <td>FEB-2020</td>\n",
       "      <td>-</td>\n",
       "      <td>CONDOMINIUM_APARTMENTS</td>\n",
       "      <td>RESALE</td>\n",
       "      <td>SELLER</td>\n",
       "      <td>-</td>\n",
       "      <td>14</td>\n",
       "      <td>Geylang/ Eunos</td>\n",
       "    </tr>\n",
       "  </tbody>\n",
       "</table>\n",
       "<p>954206 rows × 9 columns</p>\n",
       "</div>"
      ],
      "text/plain": [
       "       salesperson_name transaction_date salesperson_reg_num  \\\n",
       "0           SOH HUI HUA         OCT-2017            P000003I   \n",
       "1           SOH HUI HUA         MAR-2018            P000003I   \n",
       "2           SOH HUI HUA         JAN-2017            P000003I   \n",
       "3           SOH HUI HUA         MAY-2018            P000003I   \n",
       "4           SOH HUI HUA         NOV-2017            P000003I   \n",
       "...                 ...              ...                 ...   \n",
       "954201                -         FEB-2020                   -   \n",
       "954202                -         FEB-2020                   -   \n",
       "954203                -         JAN-2020                   -   \n",
       "954204                -         FEB-2020                   -   \n",
       "954205                -         FEB-2020                   -   \n",
       "\n",
       "                 property_type transaction_type represented             town  \\\n",
       "0                          HDB           RESALE      SELLER           YISHUN   \n",
       "1                          HDB           RESALE       BUYER  KALLANG/WHAMPOA   \n",
       "2                          HDB           RESALE       BUYER           YISHUN   \n",
       "3                          HDB           RESALE      SELLER    CHOA CHU KANG   \n",
       "4                          HDB           RESALE      SELLER    CHOA CHU KANG   \n",
       "...                        ...              ...         ...              ...   \n",
       "954201                     HDB      ROOM RENTAL      TENANT        TOA PAYOH   \n",
       "954202                     HDB      ROOM RENTAL    LANDLORD       QUEENSTOWN   \n",
       "954203  CONDOMINIUM_APARTMENTS     WHOLE RENTAL      TENANT                -   \n",
       "954204  CONDOMINIUM_APARTMENTS     WHOLE RENTAL    LANDLORD                -   \n",
       "954205  CONDOMINIUM_APARTMENTS           RESALE      SELLER                -   \n",
       "\n",
       "       district                                   general_location  \n",
       "0             -                                                  -  \n",
       "1             -                                                  -  \n",
       "2             -                                                  -  \n",
       "3             -                                                  -  \n",
       "4             -                                                  -  \n",
       "...         ...                                                ...  \n",
       "954201       12                    Balestier/ Toa Payoh/ Serangoon  \n",
       "954202       10        Ardmore/ Bukit Timah/ Holland Road/ Tanglin  \n",
       "954203       11                     Watten Estate/ Novena/ Thomson  \n",
       "954204       23  Hillview/ Dairy Farm/ Bukit Panjang/ Choa Chu ...  \n",
       "954205       14                                     Geylang/ Eunos  \n",
       "\n",
       "[954206 rows x 9 columns]"
      ]
     },
     "execution_count": 42,
     "metadata": {},
     "output_type": "execute_result"
    }
   ],
   "source": [
    "csv_file_path = \"data/CEASalespersonsPropertyTransactionRecordsresidential.csv\"\n",
    "original_df = pd.read_csv(csv_file_path)\n",
    "original_df"
   ]
  },
  {
   "cell_type": "markdown",
   "id": "322ecca5-86c5-4872-bdf6-45cc76be3aa9",
   "metadata": {},
   "source": [
    "## Data Cleaning"
   ]
  },
  {
   "cell_type": "code",
   "execution_count": 41,
   "id": "b9b099f0-71e5-4df4-af17-03542713e8e9",
   "metadata": {},
   "outputs": [],
   "source": [
    "# Automatically assign the most frequent ID to all inconsistent rows\n",
    "def most_frequent_id(group):\n",
    "    return group.value_counts().idxmax()\n",
    "\n",
    "\n",
    "\n",
    "# Function to check if all non-null values in salesperson_name matches salesperson_reg_num\n",
    "def checkNamesMatchID(dataframe: pd.DataFrame) -> None:\n",
    "    inconsistent_df = dataframe.copy()\n",
    "    # Group by name and get unique IDs\n",
    "    grouped = inconsistent_df.groupby('salesperson_name')['salesperson_reg_num'].nunique()\n",
    "    \n",
    "    # Check for inconsistencies\n",
    "    inconsistent_names = grouped[grouped > 1].index.tolist()\n",
    "\n",
    "    if inconsistent_names:\n",
    "        print(f\"Inconsistent IDs found for the following names: {inconsistent_names}\")\n",
    "    else:\n",
    "        print(\"All names have consistent unique IDs.\")\n",
    "\n",
    "\n",
    "# Clean dataframe for missing ID values\n",
    "def cleanDF(dataframe: pd.DataFrame) -> pd.DataFrame:\n",
    "    # Group by name and get unique IDs\n",
    "    grouped = dataframe.groupby('salesperson_name')['salesperson_reg_num'].nunique()\n",
    "    \n",
    "    # Check for inconsistencies\n",
    "    inconsistent_names = grouped[grouped > 1].index.tolist()\n",
    "    \n",
    "    if inconsistent_names:\n",
    "        # Create a mapping of names to their most frequent unique ID\n",
    "        id_mapping = dataframe.groupby('salesperson_name')['salesperson_reg_num'].apply(most_frequent_id).to_dict()\n",
    "        \n",
    "        # Update the DataFrame with the most frequent unique ID for each name\n",
    "        dataframe['salesperson_reg_num'] = dataframe['salesperson_name'].map(id_mapping)\n",
    "    \n",
    "\n",
    "    return dataframe"
   ]
  },
  {
   "cell_type": "code",
   "execution_count": 44,
   "id": "44e65360-cc0a-41b6-85f0-7cd9ed2fefd7",
   "metadata": {},
   "outputs": [
    {
     "name": "stdout",
     "output_type": "stream",
     "text": [
      "All names have consistent unique IDs.\n",
      "All names have consistent unique IDs.\n"
     ]
    },
    {
     "data": {
      "text/html": [
       "<div>\n",
       "<style scoped>\n",
       "    .dataframe tbody tr th:only-of-type {\n",
       "        vertical-align: middle;\n",
       "    }\n",
       "\n",
       "    .dataframe tbody tr th {\n",
       "        vertical-align: top;\n",
       "    }\n",
       "\n",
       "    .dataframe thead th {\n",
       "        text-align: right;\n",
       "    }\n",
       "</style>\n",
       "<table border=\"1\" class=\"dataframe\">\n",
       "  <thead>\n",
       "    <tr style=\"text-align: right;\">\n",
       "      <th></th>\n",
       "      <th>salesperson_name</th>\n",
       "      <th>transaction_date</th>\n",
       "      <th>salesperson_reg_num</th>\n",
       "      <th>property_type</th>\n",
       "      <th>transaction_type</th>\n",
       "      <th>represented</th>\n",
       "      <th>town</th>\n",
       "      <th>district</th>\n",
       "      <th>general_location</th>\n",
       "    </tr>\n",
       "  </thead>\n",
       "  <tbody>\n",
       "    <tr>\n",
       "      <th>0</th>\n",
       "      <td>SOH HUI HUA</td>\n",
       "      <td>OCT-2017</td>\n",
       "      <td>P000003I</td>\n",
       "      <td>HDB</td>\n",
       "      <td>RESALE</td>\n",
       "      <td>SELLER</td>\n",
       "      <td>YISHUN</td>\n",
       "      <td>-</td>\n",
       "      <td>-</td>\n",
       "    </tr>\n",
       "    <tr>\n",
       "      <th>1</th>\n",
       "      <td>SOH HUI HUA</td>\n",
       "      <td>MAR-2018</td>\n",
       "      <td>P000003I</td>\n",
       "      <td>HDB</td>\n",
       "      <td>RESALE</td>\n",
       "      <td>BUYER</td>\n",
       "      <td>KALLANG/WHAMPOA</td>\n",
       "      <td>-</td>\n",
       "      <td>-</td>\n",
       "    </tr>\n",
       "    <tr>\n",
       "      <th>2</th>\n",
       "      <td>SOH HUI HUA</td>\n",
       "      <td>JAN-2017</td>\n",
       "      <td>P000003I</td>\n",
       "      <td>HDB</td>\n",
       "      <td>RESALE</td>\n",
       "      <td>BUYER</td>\n",
       "      <td>YISHUN</td>\n",
       "      <td>-</td>\n",
       "      <td>-</td>\n",
       "    </tr>\n",
       "    <tr>\n",
       "      <th>3</th>\n",
       "      <td>SOH HUI HUA</td>\n",
       "      <td>MAY-2018</td>\n",
       "      <td>P000003I</td>\n",
       "      <td>HDB</td>\n",
       "      <td>RESALE</td>\n",
       "      <td>SELLER</td>\n",
       "      <td>CHOA CHU KANG</td>\n",
       "      <td>-</td>\n",
       "      <td>-</td>\n",
       "    </tr>\n",
       "    <tr>\n",
       "      <th>4</th>\n",
       "      <td>SOH HUI HUA</td>\n",
       "      <td>NOV-2017</td>\n",
       "      <td>P000003I</td>\n",
       "      <td>HDB</td>\n",
       "      <td>RESALE</td>\n",
       "      <td>SELLER</td>\n",
       "      <td>CHOA CHU KANG</td>\n",
       "      <td>-</td>\n",
       "      <td>-</td>\n",
       "    </tr>\n",
       "    <tr>\n",
       "      <th>...</th>\n",
       "      <td>...</td>\n",
       "      <td>...</td>\n",
       "      <td>...</td>\n",
       "      <td>...</td>\n",
       "      <td>...</td>\n",
       "      <td>...</td>\n",
       "      <td>...</td>\n",
       "      <td>...</td>\n",
       "      <td>...</td>\n",
       "    </tr>\n",
       "    <tr>\n",
       "      <th>954201</th>\n",
       "      <td>-</td>\n",
       "      <td>FEB-2020</td>\n",
       "      <td>-</td>\n",
       "      <td>HDB</td>\n",
       "      <td>ROOM RENTAL</td>\n",
       "      <td>TENANT</td>\n",
       "      <td>TOA PAYOH</td>\n",
       "      <td>12</td>\n",
       "      <td>Balestier/ Toa Payoh/ Serangoon</td>\n",
       "    </tr>\n",
       "    <tr>\n",
       "      <th>954202</th>\n",
       "      <td>-</td>\n",
       "      <td>FEB-2020</td>\n",
       "      <td>-</td>\n",
       "      <td>HDB</td>\n",
       "      <td>ROOM RENTAL</td>\n",
       "      <td>LANDLORD</td>\n",
       "      <td>QUEENSTOWN</td>\n",
       "      <td>10</td>\n",
       "      <td>Ardmore/ Bukit Timah/ Holland Road/ Tanglin</td>\n",
       "    </tr>\n",
       "    <tr>\n",
       "      <th>954203</th>\n",
       "      <td>-</td>\n",
       "      <td>JAN-2020</td>\n",
       "      <td>-</td>\n",
       "      <td>CONDOMINIUM_APARTMENTS</td>\n",
       "      <td>WHOLE RENTAL</td>\n",
       "      <td>TENANT</td>\n",
       "      <td>-</td>\n",
       "      <td>11</td>\n",
       "      <td>Watten Estate/ Novena/ Thomson</td>\n",
       "    </tr>\n",
       "    <tr>\n",
       "      <th>954204</th>\n",
       "      <td>-</td>\n",
       "      <td>FEB-2020</td>\n",
       "      <td>-</td>\n",
       "      <td>CONDOMINIUM_APARTMENTS</td>\n",
       "      <td>WHOLE RENTAL</td>\n",
       "      <td>LANDLORD</td>\n",
       "      <td>-</td>\n",
       "      <td>23</td>\n",
       "      <td>Hillview/ Dairy Farm/ Bukit Panjang/ Choa Chu ...</td>\n",
       "    </tr>\n",
       "    <tr>\n",
       "      <th>954205</th>\n",
       "      <td>-</td>\n",
       "      <td>FEB-2020</td>\n",
       "      <td>-</td>\n",
       "      <td>CONDOMINIUM_APARTMENTS</td>\n",
       "      <td>RESALE</td>\n",
       "      <td>SELLER</td>\n",
       "      <td>-</td>\n",
       "      <td>14</td>\n",
       "      <td>Geylang/ Eunos</td>\n",
       "    </tr>\n",
       "  </tbody>\n",
       "</table>\n",
       "<p>954206 rows × 9 columns</p>\n",
       "</div>"
      ],
      "text/plain": [
       "       salesperson_name transaction_date salesperson_reg_num  \\\n",
       "0           SOH HUI HUA         OCT-2017            P000003I   \n",
       "1           SOH HUI HUA         MAR-2018            P000003I   \n",
       "2           SOH HUI HUA         JAN-2017            P000003I   \n",
       "3           SOH HUI HUA         MAY-2018            P000003I   \n",
       "4           SOH HUI HUA         NOV-2017            P000003I   \n",
       "...                 ...              ...                 ...   \n",
       "954201                -         FEB-2020                   -   \n",
       "954202                -         FEB-2020                   -   \n",
       "954203                -         JAN-2020                   -   \n",
       "954204                -         FEB-2020                   -   \n",
       "954205                -         FEB-2020                   -   \n",
       "\n",
       "                 property_type transaction_type represented             town  \\\n",
       "0                          HDB           RESALE      SELLER           YISHUN   \n",
       "1                          HDB           RESALE       BUYER  KALLANG/WHAMPOA   \n",
       "2                          HDB           RESALE       BUYER           YISHUN   \n",
       "3                          HDB           RESALE      SELLER    CHOA CHU KANG   \n",
       "4                          HDB           RESALE      SELLER    CHOA CHU KANG   \n",
       "...                        ...              ...         ...              ...   \n",
       "954201                     HDB      ROOM RENTAL      TENANT        TOA PAYOH   \n",
       "954202                     HDB      ROOM RENTAL    LANDLORD       QUEENSTOWN   \n",
       "954203  CONDOMINIUM_APARTMENTS     WHOLE RENTAL      TENANT                -   \n",
       "954204  CONDOMINIUM_APARTMENTS     WHOLE RENTAL    LANDLORD                -   \n",
       "954205  CONDOMINIUM_APARTMENTS           RESALE      SELLER                -   \n",
       "\n",
       "       district                                   general_location  \n",
       "0             -                                                  -  \n",
       "1             -                                                  -  \n",
       "2             -                                                  -  \n",
       "3             -                                                  -  \n",
       "4             -                                                  -  \n",
       "...         ...                                                ...  \n",
       "954201       12                    Balestier/ Toa Payoh/ Serangoon  \n",
       "954202       10        Ardmore/ Bukit Timah/ Holland Road/ Tanglin  \n",
       "954203       11                     Watten Estate/ Novena/ Thomson  \n",
       "954204       23  Hillview/ Dairy Farm/ Bukit Panjang/ Choa Chu ...  \n",
       "954205       14                                     Geylang/ Eunos  \n",
       "\n",
       "[954206 rows x 9 columns]"
      ]
     },
     "execution_count": 44,
     "metadata": {},
     "output_type": "execute_result"
    }
   ],
   "source": [
    "# Check if ID matches names\n",
    "checkNamesMatchID(original_df)\n",
    "cleaned_df = cleanDF(original_df)\n",
    "\n",
    "# Sanity check\n",
    "checkNamesMatchID(cleaned_df)\n",
    "cleaned_df"
   ]
  },
  {
   "cell_type": "markdown",
   "id": "83c19c14-c6ed-4ebb-b31b-ee3381da13b1",
   "metadata": {},
   "source": [
    "## Focus on HDB resale flat transactions where a property agent represented the seller"
   ]
  },
  {
   "cell_type": "code",
   "execution_count": 68,
   "id": "2c971b1a-872c-4410-8391-65575d089752",
   "metadata": {},
   "outputs": [],
   "source": [
    "def preprocess_df(dataframe: pd.DataFrame) -> pd.DataFrame:\n",
    "    hdb_df = dataframe[dataframe['property_type'] == \"HDB\"]\n",
    "    resale_hdb_df = hdb_df[hdb_df['transaction_type'] == \"RESALE\"]\n",
    "    seller_rep_df = resale_hdb_df[resale_hdb_df['represented'] == 'SELLER']\n",
    "\n",
    "    # Remove those without ID / names\n",
    "    seller_rep_df = seller_rep_df[seller_rep_df['salesperson_name'] != \"-\"]\n",
    "    final_df = seller_rep_df[seller_rep_df['salesperson_reg_num'] != \"-\"]\n",
    "    \n",
    "\n",
    "    # Parse the 'Date' column to a datetime object\n",
    "    final_df['ParsedDate'] = pd.to_datetime(final_df['transaction_date'], format='%b-%Y')\n",
    "    \n",
    "    # Extract month and year as separate columns\n",
    "    final_df['year'] = final_df['ParsedDate'].dt.year\n",
    "    final_df['month'] = final_df['ParsedDate'].dt.month\n",
    "\n",
    "    \n",
    "    # Drop columns that has no meaning (i.e general_location, district)\n",
    "    ## the new preprocessed dataframe will have the same values in columns - 'property_type', 'transaction_type', 'represented' \n",
    "    ## dataframe['district'].value_counts() & dataframe['general_location'].value_counts() has been done and all values are '-'\n",
    "    drop_cols = ['property_type', 'transaction_type', 'represented', 'general_location', 'district', 'ParsedDate']\n",
    "    final_df = final_df.drop(drop_cols, axis=1)\n",
    "\n",
    "    return final_df.reset_index(drop=True)"
   ]
  },
  {
   "cell_type": "code",
   "execution_count": 69,
   "id": "8f71aff9-97ab-427e-a523-98c61d624a59",
   "metadata": {},
   "outputs": [
    {
     "data": {
      "text/html": [
       "<div>\n",
       "<style scoped>\n",
       "    .dataframe tbody tr th:only-of-type {\n",
       "        vertical-align: middle;\n",
       "    }\n",
       "\n",
       "    .dataframe tbody tr th {\n",
       "        vertical-align: top;\n",
       "    }\n",
       "\n",
       "    .dataframe thead th {\n",
       "        text-align: right;\n",
       "    }\n",
       "</style>\n",
       "<table border=\"1\" class=\"dataframe\">\n",
       "  <thead>\n",
       "    <tr style=\"text-align: right;\">\n",
       "      <th></th>\n",
       "      <th>salesperson_name</th>\n",
       "      <th>transaction_date</th>\n",
       "      <th>salesperson_reg_num</th>\n",
       "      <th>town</th>\n",
       "      <th>year</th>\n",
       "      <th>month</th>\n",
       "    </tr>\n",
       "  </thead>\n",
       "  <tbody>\n",
       "    <tr>\n",
       "      <th>0</th>\n",
       "      <td>SOH HUI HUA</td>\n",
       "      <td>OCT-2017</td>\n",
       "      <td>P000003I</td>\n",
       "      <td>YISHUN</td>\n",
       "      <td>2017</td>\n",
       "      <td>10</td>\n",
       "    </tr>\n",
       "    <tr>\n",
       "      <th>1</th>\n",
       "      <td>SOH HUI HUA</td>\n",
       "      <td>MAY-2018</td>\n",
       "      <td>P000003I</td>\n",
       "      <td>CHOA CHU KANG</td>\n",
       "      <td>2018</td>\n",
       "      <td>5</td>\n",
       "    </tr>\n",
       "    <tr>\n",
       "      <th>2</th>\n",
       "      <td>SOH HUI HUA</td>\n",
       "      <td>NOV-2017</td>\n",
       "      <td>P000003I</td>\n",
       "      <td>CHOA CHU KANG</td>\n",
       "      <td>2017</td>\n",
       "      <td>11</td>\n",
       "    </tr>\n",
       "    <tr>\n",
       "      <th>3</th>\n",
       "      <td>SOH HUI HUA</td>\n",
       "      <td>AUG-2018</td>\n",
       "      <td>P000003I</td>\n",
       "      <td>SEMBAWANG</td>\n",
       "      <td>2018</td>\n",
       "      <td>8</td>\n",
       "    </tr>\n",
       "    <tr>\n",
       "      <th>4</th>\n",
       "      <td>SOH HUI HUA</td>\n",
       "      <td>AUG-2018</td>\n",
       "      <td>P000003I</td>\n",
       "      <td>JURONG WEST</td>\n",
       "      <td>2018</td>\n",
       "      <td>8</td>\n",
       "    </tr>\n",
       "    <tr>\n",
       "      <th>...</th>\n",
       "      <td>...</td>\n",
       "      <td>...</td>\n",
       "      <td>...</td>\n",
       "      <td>...</td>\n",
       "      <td>...</td>\n",
       "      <td>...</td>\n",
       "    </tr>\n",
       "    <tr>\n",
       "      <th>173366</th>\n",
       "      <td>LIM JIA CHIN, MARCUS</td>\n",
       "      <td>JUL-2024</td>\n",
       "      <td>R069081A</td>\n",
       "      <td>BEDOK</td>\n",
       "      <td>2024</td>\n",
       "      <td>7</td>\n",
       "    </tr>\n",
       "    <tr>\n",
       "      <th>173367</th>\n",
       "      <td>CH NG CHOO YEANG</td>\n",
       "      <td>JUL-2024</td>\n",
       "      <td>R069282Z</td>\n",
       "      <td>SENGKANG</td>\n",
       "      <td>2024</td>\n",
       "      <td>7</td>\n",
       "    </tr>\n",
       "    <tr>\n",
       "      <th>173368</th>\n",
       "      <td>LYDIA IZZATI BINTE JASMANI</td>\n",
       "      <td>JUL-2024</td>\n",
       "      <td>R069838D</td>\n",
       "      <td>SEMBAWANG</td>\n",
       "      <td>2024</td>\n",
       "      <td>7</td>\n",
       "    </tr>\n",
       "    <tr>\n",
       "      <th>173369</th>\n",
       "      <td>CHEONG FONG ENG</td>\n",
       "      <td>JUL-2024</td>\n",
       "      <td>R070098A</td>\n",
       "      <td>CHOA CHU KANG</td>\n",
       "      <td>2024</td>\n",
       "      <td>7</td>\n",
       "    </tr>\n",
       "    <tr>\n",
       "      <th>173370</th>\n",
       "      <td>LEE U-LYNN</td>\n",
       "      <td>JUL-2024</td>\n",
       "      <td>R069256Z</td>\n",
       "      <td>CHOA CHU KANG</td>\n",
       "      <td>2024</td>\n",
       "      <td>7</td>\n",
       "    </tr>\n",
       "  </tbody>\n",
       "</table>\n",
       "<p>173371 rows × 6 columns</p>\n",
       "</div>"
      ],
      "text/plain": [
       "                  salesperson_name transaction_date salesperson_reg_num  \\\n",
       "0                      SOH HUI HUA         OCT-2017            P000003I   \n",
       "1                      SOH HUI HUA         MAY-2018            P000003I   \n",
       "2                      SOH HUI HUA         NOV-2017            P000003I   \n",
       "3                      SOH HUI HUA         AUG-2018            P000003I   \n",
       "4                      SOH HUI HUA         AUG-2018            P000003I   \n",
       "...                            ...              ...                 ...   \n",
       "173366        LIM JIA CHIN, MARCUS         JUL-2024            R069081A   \n",
       "173367            CH NG CHOO YEANG         JUL-2024            R069282Z   \n",
       "173368  LYDIA IZZATI BINTE JASMANI         JUL-2024            R069838D   \n",
       "173369             CHEONG FONG ENG         JUL-2024            R070098A   \n",
       "173370                  LEE U-LYNN         JUL-2024            R069256Z   \n",
       "\n",
       "                 town  year  month  \n",
       "0              YISHUN  2017     10  \n",
       "1       CHOA CHU KANG  2018      5  \n",
       "2       CHOA CHU KANG  2017     11  \n",
       "3           SEMBAWANG  2018      8  \n",
       "4         JURONG WEST  2018      8  \n",
       "...               ...   ...    ...  \n",
       "173366          BEDOK  2024      7  \n",
       "173367       SENGKANG  2024      7  \n",
       "173368      SEMBAWANG  2024      7  \n",
       "173369  CHOA CHU KANG  2024      7  \n",
       "173370  CHOA CHU KANG  2024      7  \n",
       "\n",
       "[173371 rows x 6 columns]"
      ]
     },
     "execution_count": 69,
     "metadata": {},
     "output_type": "execute_result"
    }
   ],
   "source": [
    "preprocessed_df = preprocess_df(cleaned_df)\n",
    "preprocessed_df"
   ]
  },
  {
   "cell_type": "markdown",
   "id": "8c5b0f6b-4758-4655-9d5e-aa9b27711fbc",
   "metadata": {},
   "source": [
    "## Examine the distribution for number of sales closed by an agent in a year"
   ]
  },
  {
   "cell_type": "code",
   "execution_count": 108,
   "id": "aa1f6f0f-1560-4a05-b5b5-4e5fb19aafc1",
   "metadata": {},
   "outputs": [
    {
     "data": {
      "text/html": [
       "<div>\n",
       "<style scoped>\n",
       "    .dataframe tbody tr th:only-of-type {\n",
       "        vertical-align: middle;\n",
       "    }\n",
       "\n",
       "    .dataframe tbody tr th {\n",
       "        vertical-align: top;\n",
       "    }\n",
       "\n",
       "    .dataframe thead th {\n",
       "        text-align: right;\n",
       "    }\n",
       "</style>\n",
       "<table border=\"1\" class=\"dataframe\">\n",
       "  <thead>\n",
       "    <tr style=\"text-align: right;\">\n",
       "      <th></th>\n",
       "      <th>month</th>\n",
       "      <th>year</th>\n",
       "      <th>num_sales</th>\n",
       "    </tr>\n",
       "  </thead>\n",
       "  <tbody>\n",
       "    <tr>\n",
       "      <th>0</th>\n",
       "      <td>1</td>\n",
       "      <td>2017</td>\n",
       "      <td>1400</td>\n",
       "    </tr>\n",
       "    <tr>\n",
       "      <th>1</th>\n",
       "      <td>2</td>\n",
       "      <td>2017</td>\n",
       "      <td>1510</td>\n",
       "    </tr>\n",
       "    <tr>\n",
       "      <th>2</th>\n",
       "      <td>3</td>\n",
       "      <td>2017</td>\n",
       "      <td>1375</td>\n",
       "    </tr>\n",
       "    <tr>\n",
       "      <th>3</th>\n",
       "      <td>4</td>\n",
       "      <td>2017</td>\n",
       "      <td>1465</td>\n",
       "    </tr>\n",
       "    <tr>\n",
       "      <th>4</th>\n",
       "      <td>5</td>\n",
       "      <td>2017</td>\n",
       "      <td>1617</td>\n",
       "    </tr>\n",
       "    <tr>\n",
       "      <th>...</th>\n",
       "      <td>...</td>\n",
       "      <td>...</td>\n",
       "      <td>...</td>\n",
       "    </tr>\n",
       "    <tr>\n",
       "      <th>86</th>\n",
       "      <td>3</td>\n",
       "      <td>2024</td>\n",
       "      <td>2261</td>\n",
       "    </tr>\n",
       "    <tr>\n",
       "      <th>87</th>\n",
       "      <td>4</td>\n",
       "      <td>2024</td>\n",
       "      <td>2343</td>\n",
       "    </tr>\n",
       "    <tr>\n",
       "      <th>88</th>\n",
       "      <td>5</td>\n",
       "      <td>2024</td>\n",
       "      <td>2316</td>\n",
       "    </tr>\n",
       "    <tr>\n",
       "      <th>89</th>\n",
       "      <td>6</td>\n",
       "      <td>2024</td>\n",
       "      <td>1907</td>\n",
       "    </tr>\n",
       "    <tr>\n",
       "      <th>90</th>\n",
       "      <td>7</td>\n",
       "      <td>2024</td>\n",
       "      <td>992</td>\n",
       "    </tr>\n",
       "  </tbody>\n",
       "</table>\n",
       "<p>91 rows × 3 columns</p>\n",
       "</div>"
      ],
      "text/plain": [
       "    month  year  num_sales\n",
       "0       1  2017       1400\n",
       "1       2  2017       1510\n",
       "2       3  2017       1375\n",
       "3       4  2017       1465\n",
       "4       5  2017       1617\n",
       "..    ...   ...        ...\n",
       "86      3  2024       2261\n",
       "87      4  2024       2343\n",
       "88      5  2024       2316\n",
       "89      6  2024       1907\n",
       "90      7  2024        992\n",
       "\n",
       "[91 rows x 3 columns]"
      ]
     },
     "execution_count": 108,
     "metadata": {},
     "output_type": "execute_result"
    }
   ],
   "source": [
    "def groupedDF(df: pd.DataFrame):\n",
    "    grouped_df = df.groupby(by=[\"month\", 'year']).size().reset_index(name=\"num_sales\")\n",
    "    grouped_df = grouped_df.sort_values(by=['year', 'month']).reset_index(drop=True)\n",
    "    return grouped_df\n",
    "\n",
    "sales_count = groupedDF(preprocessed_df)\n",
    "sales_count"
   ]
  },
  {
   "cell_type": "markdown",
   "id": "e772918f-af6e-4050-9ef5-90a5317dfbcc",
   "metadata": {},
   "source": [
    "## Data Visualization"
   ]
  },
  {
   "cell_type": "code",
   "execution_count": 122,
   "id": "77c108a7-ade8-4fbb-b5ed-cc69b0ab9a06",
   "metadata": {},
   "outputs": [
    {
     "data": {
      "application/vnd.plotly.v1+json": {
       "config": {
        "plotlyServerURL": "https://plot.ly"
       },
       "data": [
        {
         "mode": "lines+markers",
         "name": "2017",
         "type": "scatter",
         "x": [
          1,
          2,
          3,
          4,
          5,
          6,
          7,
          8,
          9,
          10,
          11,
          12
         ],
         "y": [
          1400,
          1510,
          1375,
          1465,
          1617,
          1360,
          1475,
          1588,
          1528,
          1706,
          1822,
          1824
         ]
        },
        {
         "mode": "lines+markers",
         "name": "2018",
         "type": "scatter",
         "x": [
          1,
          2,
          3,
          4,
          5,
          6,
          7,
          8,
          9,
          10,
          11,
          12
         ],
         "y": [
          1859,
          1376,
          1676,
          2162,
          2372,
          1716,
          1655,
          2049,
          1955,
          1960,
          1962,
          1663
         ]
        },
        {
         "mode": "lines+markers",
         "name": "2019",
         "type": "scatter",
         "x": [
          1,
          2,
          3,
          4,
          5,
          6,
          7,
          8,
          9,
          10,
          11,
          12
         ],
         "y": [
          1759,
          1166,
          1254,
          1317,
          1306,
          1460,
          1905,
          1910,
          1777,
          1856,
          1710,
          1987
         ]
        },
        {
         "mode": "lines+markers",
         "name": "2020",
         "type": "scatter",
         "x": [
          1,
          2,
          3,
          4,
          5,
          6,
          7,
          8,
          9,
          10,
          11,
          12
         ],
         "y": [
          1780,
          1580,
          1734,
          1697,
          1595,
          391,
          716,
          2096,
          2137,
          2391,
          2062,
          2242
         ]
        },
        {
         "mode": "lines+markers",
         "name": "2021",
         "type": "scatter",
         "x": [
          1,
          2,
          3,
          4,
          5,
          6,
          7,
          8,
          9,
          10,
          11,
          12
         ],
         "y": [
          3165,
          1849,
          2569,
          2268,
          2035,
          2334,
          3591,
          2109,
          2364,
          2420,
          2475,
          2676
         ]
        },
        {
         "mode": "lines+markers",
         "name": "2022",
         "type": "scatter",
         "x": [
          1,
          2,
          3,
          4,
          5,
          6,
          7,
          8,
          9,
          10,
          11,
          12
         ],
         "y": [
          2312,
          1938,
          2267,
          2153,
          1968,
          2005,
          2080,
          2144,
          2318,
          1885,
          2366,
          2000
         ]
        },
        {
         "mode": "lines+markers",
         "name": "2023",
         "type": "scatter",
         "x": [
          1,
          2,
          3,
          4,
          5,
          6,
          7,
          8,
          9,
          10,
          11,
          12
         ],
         "y": [
          1752,
          1925,
          2406,
          1910,
          2123,
          2280,
          2014,
          2118,
          1921,
          2007,
          2046,
          1479
         ]
        },
        {
         "mode": "lines+markers",
         "name": "2024",
         "type": "scatter",
         "x": [
          1,
          2,
          3,
          4,
          5,
          6,
          7
         ],
         "y": [
          2032,
          1345,
          2261,
          2343,
          2316,
          1907,
          992
         ]
        }
       ],
       "layout": {
        "autosize": true,
        "hovermode": "x",
        "legend": {
         "title": {
          "text": "Year"
         }
        },
        "template": {
         "data": {
          "bar": [
           {
            "error_x": {
             "color": "#2a3f5f"
            },
            "error_y": {
             "color": "#2a3f5f"
            },
            "marker": {
             "line": {
              "color": "#E5ECF6",
              "width": 0.5
             },
             "pattern": {
              "fillmode": "overlay",
              "size": 10,
              "solidity": 0.2
             }
            },
            "type": "bar"
           }
          ],
          "barpolar": [
           {
            "marker": {
             "line": {
              "color": "#E5ECF6",
              "width": 0.5
             },
             "pattern": {
              "fillmode": "overlay",
              "size": 10,
              "solidity": 0.2
             }
            },
            "type": "barpolar"
           }
          ],
          "carpet": [
           {
            "aaxis": {
             "endlinecolor": "#2a3f5f",
             "gridcolor": "white",
             "linecolor": "white",
             "minorgridcolor": "white",
             "startlinecolor": "#2a3f5f"
            },
            "baxis": {
             "endlinecolor": "#2a3f5f",
             "gridcolor": "white",
             "linecolor": "white",
             "minorgridcolor": "white",
             "startlinecolor": "#2a3f5f"
            },
            "type": "carpet"
           }
          ],
          "choropleth": [
           {
            "colorbar": {
             "outlinewidth": 0,
             "ticks": ""
            },
            "type": "choropleth"
           }
          ],
          "contour": [
           {
            "colorbar": {
             "outlinewidth": 0,
             "ticks": ""
            },
            "colorscale": [
             [
              0,
              "#0d0887"
             ],
             [
              0.1111111111111111,
              "#46039f"
             ],
             [
              0.2222222222222222,
              "#7201a8"
             ],
             [
              0.3333333333333333,
              "#9c179e"
             ],
             [
              0.4444444444444444,
              "#bd3786"
             ],
             [
              0.5555555555555556,
              "#d8576b"
             ],
             [
              0.6666666666666666,
              "#ed7953"
             ],
             [
              0.7777777777777778,
              "#fb9f3a"
             ],
             [
              0.8888888888888888,
              "#fdca26"
             ],
             [
              1,
              "#f0f921"
             ]
            ],
            "type": "contour"
           }
          ],
          "contourcarpet": [
           {
            "colorbar": {
             "outlinewidth": 0,
             "ticks": ""
            },
            "type": "contourcarpet"
           }
          ],
          "heatmap": [
           {
            "colorbar": {
             "outlinewidth": 0,
             "ticks": ""
            },
            "colorscale": [
             [
              0,
              "#0d0887"
             ],
             [
              0.1111111111111111,
              "#46039f"
             ],
             [
              0.2222222222222222,
              "#7201a8"
             ],
             [
              0.3333333333333333,
              "#9c179e"
             ],
             [
              0.4444444444444444,
              "#bd3786"
             ],
             [
              0.5555555555555556,
              "#d8576b"
             ],
             [
              0.6666666666666666,
              "#ed7953"
             ],
             [
              0.7777777777777778,
              "#fb9f3a"
             ],
             [
              0.8888888888888888,
              "#fdca26"
             ],
             [
              1,
              "#f0f921"
             ]
            ],
            "type": "heatmap"
           }
          ],
          "heatmapgl": [
           {
            "colorbar": {
             "outlinewidth": 0,
             "ticks": ""
            },
            "colorscale": [
             [
              0,
              "#0d0887"
             ],
             [
              0.1111111111111111,
              "#46039f"
             ],
             [
              0.2222222222222222,
              "#7201a8"
             ],
             [
              0.3333333333333333,
              "#9c179e"
             ],
             [
              0.4444444444444444,
              "#bd3786"
             ],
             [
              0.5555555555555556,
              "#d8576b"
             ],
             [
              0.6666666666666666,
              "#ed7953"
             ],
             [
              0.7777777777777778,
              "#fb9f3a"
             ],
             [
              0.8888888888888888,
              "#fdca26"
             ],
             [
              1,
              "#f0f921"
             ]
            ],
            "type": "heatmapgl"
           }
          ],
          "histogram": [
           {
            "marker": {
             "pattern": {
              "fillmode": "overlay",
              "size": 10,
              "solidity": 0.2
             }
            },
            "type": "histogram"
           }
          ],
          "histogram2d": [
           {
            "colorbar": {
             "outlinewidth": 0,
             "ticks": ""
            },
            "colorscale": [
             [
              0,
              "#0d0887"
             ],
             [
              0.1111111111111111,
              "#46039f"
             ],
             [
              0.2222222222222222,
              "#7201a8"
             ],
             [
              0.3333333333333333,
              "#9c179e"
             ],
             [
              0.4444444444444444,
              "#bd3786"
             ],
             [
              0.5555555555555556,
              "#d8576b"
             ],
             [
              0.6666666666666666,
              "#ed7953"
             ],
             [
              0.7777777777777778,
              "#fb9f3a"
             ],
             [
              0.8888888888888888,
              "#fdca26"
             ],
             [
              1,
              "#f0f921"
             ]
            ],
            "type": "histogram2d"
           }
          ],
          "histogram2dcontour": [
           {
            "colorbar": {
             "outlinewidth": 0,
             "ticks": ""
            },
            "colorscale": [
             [
              0,
              "#0d0887"
             ],
             [
              0.1111111111111111,
              "#46039f"
             ],
             [
              0.2222222222222222,
              "#7201a8"
             ],
             [
              0.3333333333333333,
              "#9c179e"
             ],
             [
              0.4444444444444444,
              "#bd3786"
             ],
             [
              0.5555555555555556,
              "#d8576b"
             ],
             [
              0.6666666666666666,
              "#ed7953"
             ],
             [
              0.7777777777777778,
              "#fb9f3a"
             ],
             [
              0.8888888888888888,
              "#fdca26"
             ],
             [
              1,
              "#f0f921"
             ]
            ],
            "type": "histogram2dcontour"
           }
          ],
          "mesh3d": [
           {
            "colorbar": {
             "outlinewidth": 0,
             "ticks": ""
            },
            "type": "mesh3d"
           }
          ],
          "parcoords": [
           {
            "line": {
             "colorbar": {
              "outlinewidth": 0,
              "ticks": ""
             }
            },
            "type": "parcoords"
           }
          ],
          "pie": [
           {
            "automargin": true,
            "type": "pie"
           }
          ],
          "scatter": [
           {
            "fillpattern": {
             "fillmode": "overlay",
             "size": 10,
             "solidity": 0.2
            },
            "type": "scatter"
           }
          ],
          "scatter3d": [
           {
            "line": {
             "colorbar": {
              "outlinewidth": 0,
              "ticks": ""
             }
            },
            "marker": {
             "colorbar": {
              "outlinewidth": 0,
              "ticks": ""
             }
            },
            "type": "scatter3d"
           }
          ],
          "scattercarpet": [
           {
            "marker": {
             "colorbar": {
              "outlinewidth": 0,
              "ticks": ""
             }
            },
            "type": "scattercarpet"
           }
          ],
          "scattergeo": [
           {
            "marker": {
             "colorbar": {
              "outlinewidth": 0,
              "ticks": ""
             }
            },
            "type": "scattergeo"
           }
          ],
          "scattergl": [
           {
            "marker": {
             "colorbar": {
              "outlinewidth": 0,
              "ticks": ""
             }
            },
            "type": "scattergl"
           }
          ],
          "scattermapbox": [
           {
            "marker": {
             "colorbar": {
              "outlinewidth": 0,
              "ticks": ""
             }
            },
            "type": "scattermapbox"
           }
          ],
          "scatterpolar": [
           {
            "marker": {
             "colorbar": {
              "outlinewidth": 0,
              "ticks": ""
             }
            },
            "type": "scatterpolar"
           }
          ],
          "scatterpolargl": [
           {
            "marker": {
             "colorbar": {
              "outlinewidth": 0,
              "ticks": ""
             }
            },
            "type": "scatterpolargl"
           }
          ],
          "scatterternary": [
           {
            "marker": {
             "colorbar": {
              "outlinewidth": 0,
              "ticks": ""
             }
            },
            "type": "scatterternary"
           }
          ],
          "surface": [
           {
            "colorbar": {
             "outlinewidth": 0,
             "ticks": ""
            },
            "colorscale": [
             [
              0,
              "#0d0887"
             ],
             [
              0.1111111111111111,
              "#46039f"
             ],
             [
              0.2222222222222222,
              "#7201a8"
             ],
             [
              0.3333333333333333,
              "#9c179e"
             ],
             [
              0.4444444444444444,
              "#bd3786"
             ],
             [
              0.5555555555555556,
              "#d8576b"
             ],
             [
              0.6666666666666666,
              "#ed7953"
             ],
             [
              0.7777777777777778,
              "#fb9f3a"
             ],
             [
              0.8888888888888888,
              "#fdca26"
             ],
             [
              1,
              "#f0f921"
             ]
            ],
            "type": "surface"
           }
          ],
          "table": [
           {
            "cells": {
             "fill": {
              "color": "#EBF0F8"
             },
             "line": {
              "color": "white"
             }
            },
            "header": {
             "fill": {
              "color": "#C8D4E3"
             },
             "line": {
              "color": "white"
             }
            },
            "type": "table"
           }
          ]
         },
         "layout": {
          "annotationdefaults": {
           "arrowcolor": "#2a3f5f",
           "arrowhead": 0,
           "arrowwidth": 1
          },
          "autotypenumbers": "strict",
          "coloraxis": {
           "colorbar": {
            "outlinewidth": 0,
            "ticks": ""
           }
          },
          "colorscale": {
           "diverging": [
            [
             0,
             "#8e0152"
            ],
            [
             0.1,
             "#c51b7d"
            ],
            [
             0.2,
             "#de77ae"
            ],
            [
             0.3,
             "#f1b6da"
            ],
            [
             0.4,
             "#fde0ef"
            ],
            [
             0.5,
             "#f7f7f7"
            ],
            [
             0.6,
             "#e6f5d0"
            ],
            [
             0.7,
             "#b8e186"
            ],
            [
             0.8,
             "#7fbc41"
            ],
            [
             0.9,
             "#4d9221"
            ],
            [
             1,
             "#276419"
            ]
           ],
           "sequential": [
            [
             0,
             "#0d0887"
            ],
            [
             0.1111111111111111,
             "#46039f"
            ],
            [
             0.2222222222222222,
             "#7201a8"
            ],
            [
             0.3333333333333333,
             "#9c179e"
            ],
            [
             0.4444444444444444,
             "#bd3786"
            ],
            [
             0.5555555555555556,
             "#d8576b"
            ],
            [
             0.6666666666666666,
             "#ed7953"
            ],
            [
             0.7777777777777778,
             "#fb9f3a"
            ],
            [
             0.8888888888888888,
             "#fdca26"
            ],
            [
             1,
             "#f0f921"
            ]
           ],
           "sequentialminus": [
            [
             0,
             "#0d0887"
            ],
            [
             0.1111111111111111,
             "#46039f"
            ],
            [
             0.2222222222222222,
             "#7201a8"
            ],
            [
             0.3333333333333333,
             "#9c179e"
            ],
            [
             0.4444444444444444,
             "#bd3786"
            ],
            [
             0.5555555555555556,
             "#d8576b"
            ],
            [
             0.6666666666666666,
             "#ed7953"
            ],
            [
             0.7777777777777778,
             "#fb9f3a"
            ],
            [
             0.8888888888888888,
             "#fdca26"
            ],
            [
             1,
             "#f0f921"
            ]
           ]
          },
          "colorway": [
           "#636efa",
           "#EF553B",
           "#00cc96",
           "#ab63fa",
           "#FFA15A",
           "#19d3f3",
           "#FF6692",
           "#B6E880",
           "#FF97FF",
           "#FECB52"
          ],
          "font": {
           "color": "#2a3f5f"
          },
          "geo": {
           "bgcolor": "white",
           "lakecolor": "white",
           "landcolor": "#E5ECF6",
           "showlakes": true,
           "showland": true,
           "subunitcolor": "white"
          },
          "hoverlabel": {
           "align": "left"
          },
          "hovermode": "closest",
          "mapbox": {
           "style": "light"
          },
          "paper_bgcolor": "white",
          "plot_bgcolor": "#E5ECF6",
          "polar": {
           "angularaxis": {
            "gridcolor": "white",
            "linecolor": "white",
            "ticks": ""
           },
           "bgcolor": "#E5ECF6",
           "radialaxis": {
            "gridcolor": "white",
            "linecolor": "white",
            "ticks": ""
           }
          },
          "scene": {
           "xaxis": {
            "backgroundcolor": "#E5ECF6",
            "gridcolor": "white",
            "gridwidth": 2,
            "linecolor": "white",
            "showbackground": true,
            "ticks": "",
            "zerolinecolor": "white"
           },
           "yaxis": {
            "backgroundcolor": "#E5ECF6",
            "gridcolor": "white",
            "gridwidth": 2,
            "linecolor": "white",
            "showbackground": true,
            "ticks": "",
            "zerolinecolor": "white"
           },
           "zaxis": {
            "backgroundcolor": "#E5ECF6",
            "gridcolor": "white",
            "gridwidth": 2,
            "linecolor": "white",
            "showbackground": true,
            "ticks": "",
            "zerolinecolor": "white"
           }
          },
          "shapedefaults": {
           "line": {
            "color": "#2a3f5f"
           }
          },
          "ternary": {
           "aaxis": {
            "gridcolor": "white",
            "linecolor": "white",
            "ticks": ""
           },
           "baxis": {
            "gridcolor": "white",
            "linecolor": "white",
            "ticks": ""
           },
           "bgcolor": "#E5ECF6",
           "caxis": {
            "gridcolor": "white",
            "linecolor": "white",
            "ticks": ""
           }
          },
          "title": {
           "x": 0.05
          },
          "xaxis": {
           "automargin": true,
           "gridcolor": "white",
           "linecolor": "white",
           "ticks": "",
           "title": {
            "standoff": 15
           },
           "zerolinecolor": "white",
           "zerolinewidth": 2
          },
          "yaxis": {
           "automargin": true,
           "gridcolor": "white",
           "linecolor": "white",
           "ticks": "",
           "title": {
            "standoff": 15
           },
           "zerolinecolor": "white",
           "zerolinewidth": 2
          }
         }
        },
        "title": {
         "text": "Monthly Sales Report (2017-2024)"
        },
        "xaxis": {
         "autorange": true,
         "range": [
          0.33151833771435724,
          12.668481662285643
         ],
         "ticktext": [
          "1",
          "2",
          "3",
          "4",
          "5",
          "6",
          "7",
          "8",
          "9",
          "10",
          "11",
          "12"
         ],
         "tickvals": [
          1,
          2,
          3,
          4,
          5,
          6,
          7,
          8,
          9,
          10,
          11,
          12
         ],
         "title": {
          "text": "Month"
         },
         "type": "linear"
        },
        "yaxis": {
         "autorange": true,
         "range": [
          126.92233009708741,
          3855.0776699029125
         ],
         "title": {
          "text": "Number of Sales"
         },
         "type": "linear"
        }
       }
      },
      "image/png": "[encoded data removed]",
      "text/html": [
       "<div>                            <div id=\"886fa18a-2abb-495d-a2d6-e334b7078e9e\" class=\"plotly-graph-div\" style=\"height:525px; width:100%;\"></div>            <script type=\"text/javascript\">                require([\"plotly\"], function(Plotly) {                    window.PLOTLYENV=window.PLOTLYENV || {};                                    if (document.getElementById(\"886fa18a-2abb-495d-a2d6-e334b7078e9e\")) {                    Plotly.newPlot(                        \"886fa18a-2abb-495d-a2d6-e334b7078e9e\",                        [{\"mode\":\"lines+markers\",\"name\":\"2017\",\"x\":[1,2,3,4,5,6,7,8,9,10,11,12],\"y\":[1400,1510,1375,1465,1617,1360,1475,1588,1528,1706,1822,1824],\"type\":\"scatter\"},{\"mode\":\"lines+markers\",\"name\":\"2018\",\"x\":[1,2,3,4,5,6,7,8,9,10,11,12],\"y\":[1859,1376,1676,2162,2372,1716,1655,2049,1955,1960,1962,1663],\"type\":\"scatter\"},{\"mode\":\"lines+markers\",\"name\":\"2019\",\"x\":[1,2,3,4,5,6,7,8,9,10,11,12],\"y\":[1759,1166,1254,1317,1306,1460,1905,1910,1777,1856,1710,1987],\"type\":\"scatter\"},{\"mode\":\"lines+markers\",\"name\":\"2020\",\"x\":[1,2,3,4,5,6,7,8,9,10,11,12],\"y\":[1780,1580,1734,1697,1595,391,716,2096,2137,2391,2062,2242],\"type\":\"scatter\"},{\"mode\":\"lines+markers\",\"name\":\"2021\",\"x\":[1,2,3,4,5,6,7,8,9,10,11,12],\"y\":[3165,1849,2569,2268,2035,2334,3591,2109,2364,2420,2475,2676],\"type\":\"scatter\"},{\"mode\":\"lines+markers\",\"name\":\"2022\",\"x\":[1,2,3,4,5,6,7,8,9,10,11,12],\"y\":[2312,1938,2267,2153,1968,2005,2080,2144,2318,1885,2366,2000],\"type\":\"scatter\"},{\"mode\":\"lines+markers\",\"name\":\"2023\",\"x\":[1,2,3,4,5,6,7,8,9,10,11,12],\"y\":[1752,1925,2406,1910,2123,2280,2014,2118,1921,2007,2046,1479],\"type\":\"scatter\"},{\"mode\":\"lines+markers\",\"name\":\"2024\",\"x\":[1,2,3,4,5,6,7],\"y\":[2032,1345,2261,2343,2316,1907,992],\"type\":\"scatter\"}],                        {\"template\":{\"data\":{\"histogram2dcontour\":[{\"type\":\"histogram2dcontour\",\"colorbar\":{\"outlinewidth\":0,\"ticks\":\"\"},\"colorscale\":[[0.0,\"#0d0887\"],[0.1111111111111111,\"#46039f\"],[0.2222222222222222,\"#7201a8\"],[0.3333333333333333,\"#9c179e\"],[0.4444444444444444,\"#bd3786\"],[0.5555555555555556,\"#d8576b\"],[0.6666666666666666,\"#ed7953\"],[0.7777777777777778,\"#fb9f3a\"],[0.8888888888888888,\"#fdca26\"],[1.0,\"#f0f921\"]]}],\"choropleth\":[{\"type\":\"choropleth\",\"colorbar\":{\"outlinewidth\":0,\"ticks\":\"\"}}],\"histogram2d\":[{\"type\":\"histogram2d\",\"colorbar\":{\"outlinewidth\":0,\"ticks\":\"\"},\"colorscale\":[[0.0,\"#0d0887\"],[0.1111111111111111,\"#46039f\"],[0.2222222222222222,\"#7201a8\"],[0.3333333333333333,\"#9c179e\"],[0.4444444444444444,\"#bd3786\"],[0.5555555555555556,\"#d8576b\"],[0.6666666666666666,\"#ed7953\"],[0.7777777777777778,\"#fb9f3a\"],[0.8888888888888888,\"#fdca26\"],[1.0,\"#f0f921\"]]}],\"heatmap\":[{\"type\":\"heatmap\",\"colorbar\":{\"outlinewidth\":0,\"ticks\":\"\"},\"colorscale\":[[0.0,\"#0d0887\"],[0.1111111111111111,\"#46039f\"],[0.2222222222222222,\"#7201a8\"],[0.3333333333333333,\"#9c179e\"],[0.4444444444444444,\"#bd3786\"],[0.5555555555555556,\"#d8576b\"],[0.6666666666666666,\"#ed7953\"],[0.7777777777777778,\"#fb9f3a\"],[0.8888888888888888,\"#fdca26\"],[1.0,\"#f0f921\"]]}],\"heatmapgl\":[{\"type\":\"heatmapgl\",\"colorbar\":{\"outlinewidth\":0,\"ticks\":\"\"},\"colorscale\":[[0.0,\"#0d0887\"],[0.1111111111111111,\"#46039f\"],[0.2222222222222222,\"#7201a8\"],[0.3333333333333333,\"#9c179e\"],[0.4444444444444444,\"#bd3786\"],[0.5555555555555556,\"#d8576b\"],[0.6666666666666666,\"#ed7953\"],[0.7777777777777778,\"#fb9f3a\"],[0.8888888888888888,\"#fdca26\"],[1.0,\"#f0f921\"]]}],\"contourcarpet\":[{\"type\":\"contourcarpet\",\"colorbar\":{\"outlinewidth\":0,\"ticks\":\"\"}}],\"contour\":[{\"type\":\"contour\",\"colorbar\":{\"outlinewidth\":0,\"ticks\":\"\"},\"colorscale\":[[0.0,\"#0d0887\"],[0.1111111111111111,\"#46039f\"],[0.2222222222222222,\"#7201a8\"],[0.3333333333333333,\"#9c179e\"],[0.4444444444444444,\"#bd3786\"],[0.5555555555555556,\"#d8576b\"],[0.6666666666666666,\"#ed7953\"],[0.7777777777777778,\"#fb9f3a\"],[0.8888888888888888,\"#fdca26\"],[1.0,\"#f0f921\"]]}],\"surface\":[{\"type\":\"surface\",\"colorbar\":{\"outlinewidth\":0,\"ticks\":\"\"},\"colorscale\":[[0.0,\"#0d0887\"],[0.1111111111111111,\"#46039f\"],[0.2222222222222222,\"#7201a8\"],[0.3333333333333333,\"#9c179e\"],[0.4444444444444444,\"#bd3786\"],[0.5555555555555556,\"#d8576b\"],[0.6666666666666666,\"#ed7953\"],[0.7777777777777778,\"#fb9f3a\"],[0.8888888888888888,\"#fdca26\"],[1.0,\"#f0f921\"]]}],\"mesh3d\":[{\"type\":\"mesh3d\",\"colorbar\":{\"outlinewidth\":0,\"ticks\":\"\"}}],\"scatter\":[{\"fillpattern\":{\"fillmode\":\"overlay\",\"size\":10,\"solidity\":0.2},\"type\":\"scatter\"}],\"parcoords\":[{\"type\":\"parcoords\",\"line\":{\"colorbar\":{\"outlinewidth\":0,\"ticks\":\"\"}}}],\"scatterpolargl\":[{\"type\":\"scatterpolargl\",\"marker\":{\"colorbar\":{\"outlinewidth\":0,\"ticks\":\"\"}}}],\"bar\":[{\"error_x\":{\"color\":\"#2a3f5f\"},\"error_y\":{\"color\":\"#2a3f5f\"},\"marker\":{\"line\":{\"color\":\"#E5ECF6\",\"width\":0.5},\"pattern\":{\"fillmode\":\"overlay\",\"size\":10,\"solidity\":0.2}},\"type\":\"bar\"}],\"scattergeo\":[{\"type\":\"scattergeo\",\"marker\":{\"colorbar\":{\"outlinewidth\":0,\"ticks\":\"\"}}}],\"scatterpolar\":[{\"type\":\"scatterpolar\",\"marker\":{\"colorbar\":{\"outlinewidth\":0,\"ticks\":\"\"}}}],\"histogram\":[{\"marker\":{\"pattern\":{\"fillmode\":\"overlay\",\"size\":10,\"solidity\":0.2}},\"type\":\"histogram\"}],\"scattergl\":[{\"type\":\"scattergl\",\"marker\":{\"colorbar\":{\"outlinewidth\":0,\"ticks\":\"\"}}}],\"scatter3d\":[{\"type\":\"scatter3d\",\"line\":{\"colorbar\":{\"outlinewidth\":0,\"ticks\":\"\"}},\"marker\":{\"colorbar\":{\"outlinewidth\":0,\"ticks\":\"\"}}}],\"scattermapbox\":[{\"type\":\"scattermapbox\",\"marker\":{\"colorbar\":{\"outlinewidth\":0,\"ticks\":\"\"}}}],\"scatterternary\":[{\"type\":\"scatterternary\",\"marker\":{\"colorbar\":{\"outlinewidth\":0,\"ticks\":\"\"}}}],\"scattercarpet\":[{\"type\":\"scattercarpet\",\"marker\":{\"colorbar\":{\"outlinewidth\":0,\"ticks\":\"\"}}}],\"carpet\":[{\"aaxis\":{\"endlinecolor\":\"#2a3f5f\",\"gridcolor\":\"white\",\"linecolor\":\"white\",\"minorgridcolor\":\"white\",\"startlinecolor\":\"#2a3f5f\"},\"baxis\":{\"endlinecolor\":\"#2a3f5f\",\"gridcolor\":\"white\",\"linecolor\":\"white\",\"minorgridcolor\":\"white\",\"startlinecolor\":\"#2a3f5f\"},\"type\":\"carpet\"}],\"table\":[{\"cells\":{\"fill\":{\"color\":\"#EBF0F8\"},\"line\":{\"color\":\"white\"}},\"header\":{\"fill\":{\"color\":\"#C8D4E3\"},\"line\":{\"color\":\"white\"}},\"type\":\"table\"}],\"barpolar\":[{\"marker\":{\"line\":{\"color\":\"#E5ECF6\",\"width\":0.5},\"pattern\":{\"fillmode\":\"overlay\",\"size\":10,\"solidity\":0.2}},\"type\":\"barpolar\"}],\"pie\":[{\"automargin\":true,\"type\":\"pie\"}]},\"layout\":{\"autotypenumbers\":\"strict\",\"colorway\":[\"#636efa\",\"#EF553B\",\"#00cc96\",\"#ab63fa\",\"#FFA15A\",\"#19d3f3\",\"#FF6692\",\"#B6E880\",\"#FF97FF\",\"#FECB52\"],\"font\":{\"color\":\"#2a3f5f\"},\"hovermode\":\"closest\",\"hoverlabel\":{\"align\":\"left\"},\"paper_bgcolor\":\"white\",\"plot_bgcolor\":\"#E5ECF6\",\"polar\":{\"bgcolor\":\"#E5ECF6\",\"angularaxis\":{\"gridcolor\":\"white\",\"linecolor\":\"white\",\"ticks\":\"\"},\"radialaxis\":{\"gridcolor\":\"white\",\"linecolor\":\"white\",\"ticks\":\"\"}},\"ternary\":{\"bgcolor\":\"#E5ECF6\",\"aaxis\":{\"gridcolor\":\"white\",\"linecolor\":\"white\",\"ticks\":\"\"},\"baxis\":{\"gridcolor\":\"white\",\"linecolor\":\"white\",\"ticks\":\"\"},\"caxis\":{\"gridcolor\":\"white\",\"linecolor\":\"white\",\"ticks\":\"\"}},\"coloraxis\":{\"colorbar\":{\"outlinewidth\":0,\"ticks\":\"\"}},\"colorscale\":{\"sequential\":[[0.0,\"#0d0887\"],[0.1111111111111111,\"#46039f\"],[0.2222222222222222,\"#7201a8\"],[0.3333333333333333,\"#9c179e\"],[0.4444444444444444,\"#bd3786\"],[0.5555555555555556,\"#d8576b\"],[0.6666666666666666,\"#ed7953\"],[0.7777777777777778,\"#fb9f3a\"],[0.8888888888888888,\"#fdca26\"],[1.0,\"#f0f921\"]],\"sequentialminus\":[[0.0,\"#0d0887\"],[0.1111111111111111,\"#46039f\"],[0.2222222222222222,\"#7201a8\"],[0.3333333333333333,\"#9c179e\"],[0.4444444444444444,\"#bd3786\"],[0.5555555555555556,\"#d8576b\"],[0.6666666666666666,\"#ed7953\"],[0.7777777777777778,\"#fb9f3a\"],[0.8888888888888888,\"#fdca26\"],[1.0,\"#f0f921\"]],\"diverging\":[[0,\"#8e0152\"],[0.1,\"#c51b7d\"],[0.2,\"#de77ae\"],[0.3,\"#f1b6da\"],[0.4,\"#fde0ef\"],[0.5,\"#f7f7f7\"],[0.6,\"#e6f5d0\"],[0.7,\"#b8e186\"],[0.8,\"#7fbc41\"],[0.9,\"#4d9221\"],[1,\"#276419\"]]},\"xaxis\":{\"gridcolor\":\"white\",\"linecolor\":\"white\",\"ticks\":\"\",\"title\":{\"standoff\":15},\"zerolinecolor\":\"white\",\"automargin\":true,\"zerolinewidth\":2},\"yaxis\":{\"gridcolor\":\"white\",\"linecolor\":\"white\",\"ticks\":\"\",\"title\":{\"standoff\":15},\"zerolinecolor\":\"white\",\"automargin\":true,\"zerolinewidth\":2},\"scene\":{\"xaxis\":{\"backgroundcolor\":\"#E5ECF6\",\"gridcolor\":\"white\",\"linecolor\":\"white\",\"showbackground\":true,\"ticks\":\"\",\"zerolinecolor\":\"white\",\"gridwidth\":2},\"yaxis\":{\"backgroundcolor\":\"#E5ECF6\",\"gridcolor\":\"white\",\"linecolor\":\"white\",\"showbackground\":true,\"ticks\":\"\",\"zerolinecolor\":\"white\",\"gridwidth\":2},\"zaxis\":{\"backgroundcolor\":\"#E5ECF6\",\"gridcolor\":\"white\",\"linecolor\":\"white\",\"showbackground\":true,\"ticks\":\"\",\"zerolinecolor\":\"white\",\"gridwidth\":2}},\"shapedefaults\":{\"line\":{\"color\":\"#2a3f5f\"}},\"annotationdefaults\":{\"arrowcolor\":\"#2a3f5f\",\"arrowhead\":0,\"arrowwidth\":1},\"geo\":{\"bgcolor\":\"white\",\"landcolor\":\"#E5ECF6\",\"subunitcolor\":\"white\",\"showland\":true,\"showlakes\":true,\"lakecolor\":\"white\"},\"title\":{\"x\":0.05},\"mapbox\":{\"style\":\"light\"}}},\"xaxis\":{\"title\":{\"text\":\"Month\"},\"tickvals\":[1,2,3,4,5,6,7,8,9,10,11,12],\"ticktext\":[\"1\",\"2\",\"3\",\"4\",\"5\",\"6\",\"7\",\"8\",\"9\",\"10\",\"11\",\"12\"]},\"title\":{\"text\":\"Monthly Sales Report (2017-2024)\"},\"yaxis\":{\"title\":{\"text\":\"Number of Sales\"}},\"legend\":{\"title\":{\"text\":\"Year\"}},\"hovermode\":\"x\"},                        {\"responsive\": true}                    ).then(function(){\n",
       "                            \n",
       "var gd = document.getElementById('886fa18a-2abb-495d-a2d6-e334b7078e9e');\n",
       "var x = new MutationObserver(function (mutations, observer) {{\n",
       "        var display = window.getComputedStyle(gd).display;\n",
       "        if (!display || display === 'none') {{\n",
       "            console.log([gd, 'removed!']);\n",
       "            Plotly.purge(gd);\n",
       "            observer.disconnect();\n",
       "        }}\n",
       "}});\n",
       "\n",
       "// Listen for the removal of the full notebook cells\n",
       "var notebookContainer = gd.closest('#notebook-container');\n",
       "if (notebookContainer) {{\n",
       "    x.observe(notebookContainer, {childList: true});\n",
       "}}\n",
       "\n",
       "// Listen for the clearing of the current output cell\n",
       "var outputEl = gd.closest('.output');\n",
       "if (outputEl) {{\n",
       "    x.observe(outputEl, {childList: true});\n",
       "}}\n",
       "\n",
       "                        })                };                });            </script>        </div>"
      ]
     },
     "metadata": {},
     "output_type": "display_data"
    }
   ],
   "source": [
    "# Interactive Data Visualization\n",
    "\n",
    "fig = go.Figure()\n",
    "\n",
    "# Add traces for each year\n",
    "years = sales_count['year'].unique()\n",
    "for year in years:\n",
    "    year_data = sales_count[sales_count['year'] == year]\n",
    "    fig.add_trace(go.Scatter(x=year_data['month'], y=year_data['num_sales'], mode='lines+markers', name=str(year)))\n",
    "\n",
    "fig.update_layout(\n",
    "    title='Monthly Sales Report (2017-2024)',\n",
    "    xaxis_title='Month',\n",
    "    yaxis_title='Number of Sales',\n",
    "    xaxis=dict(tickvals=list(range(1, 13)), ticktext=[str(i) for i in range(1, 13)]),  # Set ticks for each month\n",
    "    legend_title='Year',\n",
    "    hovermode='x'  # Show hover information for each point\n",
    ")\n",
    "\n",
    "# Save Data Visualization File\n",
    "fig.write_html(\"./viz_images/monthly_sales.html\")\n",
    "\n",
    "fig.show()"
   ]
  },
  {
   "cell_type": "code",
   "execution_count": 123,
   "id": "99cd4f86-294d-4429-9697-c1cc4cba915d",
   "metadata": {},
   "outputs": [
    {
     "data": {
      "image/png": "[encoded data removed]",
      "text/plain": [
       "<Figure size 1000x600 with 1 Axes>"
      ]
     },
     "metadata": {},
     "output_type": "display_data"
    }
   ],
   "source": [
    "from scipy.stats import poisson\n",
    "\n",
    "# Fit a Poisson distribution\n",
    "mu = sales_count['num_sales'].mean()\n",
    "poisson_dist = poisson(mu)\n",
    "\n",
    "# Generate Poisson distribution PMF values\n",
    "x = range(0, sales_count['num_sales'].max() + 1)\n",
    "poisson_pmf = poisson_dist.pmf(x)\n",
    "\n",
    "# Plot the Poisson distribution over the histogram\n",
    "plt.figure(figsize=(10, 6))\n",
    "sns.histplot(sales_count['num_sales'], bins=30, kde=False, stat='density', label='Data')\n",
    "plt.plot(x, poisson_pmf, 'o-', label='Poisson Fit', color='red')\n",
    "plt.title('Distribution of Sales Count per Agent per Year with Poisson Fit')\n",
    "plt.xlabel('Number of Sales')\n",
    "plt.ylabel('Density')\n",
    "plt.legend()\n",
    "\n",
    "# Save plot\n",
    "plt.savefig(\"./viz_images/poisson_distribution.png\")\n",
    "\n",
    "plt.show()\n"
   ]
  },
  {
   "cell_type": "code",
   "execution_count": 124,
   "id": "b59a8c61-253f-4a99-87ea-e8737e7c4ea5",
   "metadata": {},
   "outputs": [
    {
     "data": {
      "image/png": "[encoded data removed]",
      "text/plain": [
       "<Figure size 1000x600 with 1 Axes>"
      ]
     },
     "metadata": {},
     "output_type": "display_data"
    }
   ],
   "source": [
    "from scipy.stats import norm\n",
    "\n",
    "# Fit a Normal distribution\n",
    "mu_norm, std_norm = norm.fit(sales_count['num_sales'])\n",
    "norm_dist = norm(mu_norm, std_norm)\n",
    "x = np.linspace(sales_count['num_sales'].min(), sales_count['num_sales'].max(), 100)\n",
    "norm_pdf = norm_dist.pdf(x)\n",
    "\n",
    "# Plot the Normal distribution over the histogram\n",
    "plt.figure(figsize=(10, 6))\n",
    "sns.histplot(sales_count['num_sales'], bins=30, kde=False, stat='density', label='Data')\n",
    "plt.plot(x, norm_pdf, 'o-', label='Normal Fit', color='blue')\n",
    "plt.title('Distribution of Sales Count per Agent per Year with Normal Fit')\n",
    "plt.xlabel('Number of Sales')\n",
    "plt.ylabel('Density')\n",
    "plt.legend()\n",
    "\n",
    "# Save plot\n",
    "plt.savefig(\"./viz_images/normal_distribution.png\")\n",
    "\n",
    "plt.show()\n"
   ]
  },
  {
   "cell_type": "code",
   "execution_count": 121,
   "id": "9abb3c9a-3af9-4b2a-bbd9-61e05f22506c",
   "metadata": {},
   "outputs": [
    {
     "name": "stdout",
     "output_type": "stream",
     "text": [
      "K-S test for Poisson distribution: KstestResult(statistic=0.4135626696189545, pvalue=1.3352079130585212e-14, statistic_location=2000, statistic_sign=-1)\n",
      "K-S test for Normal distribution: KstestResult(statistic=0.07404347344095863, pvalue=0.6727722005645043, statistic_location=2420, statistic_sign=1)\n"
     ]
    }
   ],
   "source": [
    "from scipy.stats import kstest\n",
    "\n",
    "# Perform Kolmogorov-Smirnov test for Poisson distribution\n",
    "ks_poisson = kstest(sales_count['num_sales'], poisson_dist.cdf)\n",
    "print(\"K-S test for Poisson distribution:\", ks_poisson)\n",
    "\n",
    "# Perform Kolmogorov-Smirnov test for Normal distribution\n",
    "ks_norm = kstest(sales_count['num_sales'], norm_dist.cdf)\n",
    "print(\"K-S test for Normal distribution:\", ks_norm)"
   ]
  },
  {
   "cell_type": "markdown",
   "id": "056d2d22-768e-482c-854e-043e59766900",
   "metadata": {},
   "source": [
    "## Conclusion\n",
    "\n",
    "Since p-value for Normal Distribution is significantly large than that for Poisson Distribution, there is not enough evidence from the data to reject the null hypothesis that the data does not follow Normal Distribution.\n",
    "\n",
    "<br/>\n",
    "\n",
    "Hence, the data may be approximated to follow a Normal Distribution."
   ]
  }
 ],
 "metadata": {
  "kernelspec": {
   "display_name": "Python 3 (ipykernel)",
   "language": "python",
   "name": "python3"
  },
  "language_info": {
   "codemirror_mode": {
    "name": "ipython",
    "version": 3
   },
   "file_extension": ".py",
   "mimetype": "text/x-python",
   "name": "python",
   "nbconvert_exporter": "python",
   "pygments_lexer": "ipython3",
   "version": "3.10.14"
  }
 },
 "nbformat": 4,
 "nbformat_minor": 5
}
